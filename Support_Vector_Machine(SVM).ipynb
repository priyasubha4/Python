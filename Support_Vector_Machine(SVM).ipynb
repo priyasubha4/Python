{
  "nbformat": 4,
  "nbformat_minor": 0,
  "metadata": {
    "colab": {
      "provenance": [],
      "authorship_tag": "ABX9TyMGgNgkT8yxuypWsZkZQguz",
      "include_colab_link": true
    },
    "kernelspec": {
      "name": "python3",
      "display_name": "Python 3"
    },
    "language_info": {
      "name": "python"
    }
  },
  "cells": [
    {
      "cell_type": "markdown",
      "metadata": {
        "id": "view-in-github",
        "colab_type": "text"
      },
      "source": [
        "<a href=\"https://colab.research.google.com/github/priyasubha4/Python/blob/main/Support_Vector_Machine(SVM).ipynb\" target=\"_parent\"><img src=\"https://colab.research.google.com/assets/colab-badge.svg\" alt=\"Open In Colab\"/></a>"
      ]
    },
    {
      "cell_type": "code",
      "execution_count": null,
      "metadata": {
        "id": "U-qPk6HVBBUS"
      },
      "outputs": [],
      "source": [
        "# Importing the libraries\n",
        "import numpy as np\n",
        "import matplotlib.pyplot as plt\n",
        "import pandas as pd \n"
      ]
    },
    {
      "cell_type": "code",
      "source": [
        "#  Importing the dataset\n",
        "dataset = pd.read_csv('/content/Social_Network_Ads.csv')"
      ],
      "metadata": {
        "id": "S7yBz0NPDpty"
      },
      "execution_count": null,
      "outputs": []
    },
    {
      "cell_type": "code",
      "source": [
        "  # Independent and Dependent Variables\n",
        "X = dataset.iloc[:, [2,3]].values\n",
        "y = dataset.iloc[:,4].values"
      ],
      "metadata": {
        "id": "OgMUbBwoD6l9"
      },
      "execution_count": null,
      "outputs": []
    },
    {
      "cell_type": "code",
      "source": [
        "# Splitting the dataset into the Training set and Test set\n",
        "from sklearn.model_selection import train_test_split\n",
        "X_train, X_test, y_train, y_test = train_test_split(X,y, test_size = 0.25, random_state = 0)"
      ],
      "metadata": {
        "id": "I38jDZV7ELK_"
      },
      "execution_count": null,
      "outputs": []
    },
    {
      "cell_type": "code",
      "source": [
        "# Feature Scaling\n",
        "from sklearn.preprocessing import StandardScaler\n",
        "sc = StandardScaler()\n",
        "X_train = sc.fit_transform(X_train)\n",
        "X_test = sc.transform(X_test)"
      ],
      "metadata": {
        "id": "PVELpdF9FSPc"
      },
      "execution_count": null,
      "outputs": []
    },
    {
      "cell_type": "code",
      "source": [
        "X_test"
      ],
      "metadata": {
        "colab": {
          "base_uri": "https://localhost:8080/"
        },
        "id": "67bAnwnXGB1u",
        "outputId": "00214cca-f702-4417-d963-2c89675e6e3b"
      },
      "execution_count": null,
      "outputs": [
        {
          "output_type": "execute_result",
          "data": {
            "text/plain": [
              "array([[-0.80480212,  0.50496393],\n",
              "       [-0.01254409, -0.5677824 ],\n",
              "       [-0.30964085,  0.1570462 ],\n",
              "       [-0.80480212,  0.27301877],\n",
              "       [-0.30964085, -0.5677824 ],\n",
              "       [-1.10189888, -1.43757673],\n",
              "       [-0.70576986, -1.58254245],\n",
              "       [-0.21060859,  2.15757314],\n",
              "       [-1.99318916, -0.04590581],\n",
              "       [ 0.8787462 , -0.77073441],\n",
              "       [-0.80480212, -0.59677555],\n",
              "       [-1.00286662, -0.42281668],\n",
              "       [-0.11157634, -0.42281668],\n",
              "       [ 0.08648817,  0.21503249],\n",
              "       [-1.79512465,  0.47597078],\n",
              "       [-0.60673761,  1.37475825],\n",
              "       [-0.11157634,  0.21503249],\n",
              "       [-1.89415691,  0.44697764],\n",
              "       [ 1.67100423,  1.75166912],\n",
              "       [-0.30964085, -1.37959044],\n",
              "       [-0.30964085, -0.65476184],\n",
              "       [ 0.8787462 ,  2.15757314],\n",
              "       [ 0.28455268, -0.53878926],\n",
              "       [ 0.8787462 ,  1.02684052],\n",
              "       [-1.49802789, -1.20563157],\n",
              "       [ 1.07681071,  2.07059371],\n",
              "       [-1.00286662,  0.50496393],\n",
              "       [-0.90383437,  0.30201192],\n",
              "       [-0.11157634, -0.21986468],\n",
              "       [-0.60673761,  0.47597078],\n",
              "       [-1.6960924 ,  0.53395707],\n",
              "       [-0.11157634,  0.27301877],\n",
              "       [ 1.86906873, -0.27785096],\n",
              "       [-0.11157634, -0.48080297],\n",
              "       [-1.39899564, -0.33583725],\n",
              "       [-1.99318916, -0.50979612],\n",
              "       [-1.59706014,  0.33100506],\n",
              "       [-0.4086731 , -0.77073441],\n",
              "       [-0.70576986, -1.03167271],\n",
              "       [ 1.07681071, -0.97368642],\n",
              "       [-1.10189888,  0.53395707],\n",
              "       [ 0.28455268, -0.50979612],\n",
              "       [-1.10189888,  0.41798449],\n",
              "       [-0.30964085, -1.43757673],\n",
              "       [ 0.48261718,  1.22979253],\n",
              "       [-1.10189888, -0.33583725],\n",
              "       [-0.11157634,  0.30201192],\n",
              "       [ 1.37390747,  0.59194336],\n",
              "       [-1.20093113, -1.14764529],\n",
              "       [ 1.07681071,  0.47597078],\n",
              "       [ 1.86906873,  1.51972397],\n",
              "       [-0.4086731 , -1.29261101],\n",
              "       [-0.30964085, -0.3648304 ],\n",
              "       [-0.4086731 ,  1.31677196],\n",
              "       [ 2.06713324,  0.53395707],\n",
              "       [ 0.68068169, -1.089659  ],\n",
              "       [-0.90383437,  0.38899135],\n",
              "       [-1.20093113,  0.30201192],\n",
              "       [ 1.07681071, -1.20563157],\n",
              "       [-1.49802789, -1.43757673],\n",
              "       [-0.60673761, -1.49556302],\n",
              "       [ 2.1661655 , -0.79972756],\n",
              "       [-1.89415691,  0.18603934],\n",
              "       [-0.21060859,  0.85288166],\n",
              "       [-1.89415691, -1.26361786],\n",
              "       [ 2.1661655 ,  0.38899135],\n",
              "       [-1.39899564,  0.56295021],\n",
              "       [-1.10189888, -0.33583725],\n",
              "       [ 0.18552042, -0.65476184],\n",
              "       [ 0.38358493,  0.01208048],\n",
              "       [-0.60673761,  2.331532  ],\n",
              "       [-0.30964085,  0.21503249],\n",
              "       [-1.59706014, -0.19087153],\n",
              "       [ 0.68068169, -1.37959044],\n",
              "       [-1.10189888,  0.56295021],\n",
              "       [-1.99318916,  0.35999821],\n",
              "       [ 0.38358493,  0.27301877],\n",
              "       [ 0.18552042, -0.27785096],\n",
              "       [ 1.47293972, -1.03167271],\n",
              "       [ 0.8787462 ,  1.08482681],\n",
              "       [ 1.96810099,  2.15757314],\n",
              "       [ 2.06713324,  0.38899135],\n",
              "       [-1.39899564, -0.42281668],\n",
              "       [-1.20093113, -1.00267957],\n",
              "       [ 1.96810099, -0.91570013],\n",
              "       [ 0.38358493,  0.30201192],\n",
              "       [ 0.18552042,  0.1570462 ],\n",
              "       [ 2.06713324,  1.75166912],\n",
              "       [ 0.77971394, -0.8287207 ],\n",
              "       [ 0.28455268, -0.27785096],\n",
              "       [ 0.38358493, -0.16187839],\n",
              "       [-0.11157634,  2.21555943],\n",
              "       [-1.49802789, -0.62576869],\n",
              "       [-1.29996338, -1.06066585],\n",
              "       [-1.39899564,  0.41798449],\n",
              "       [-1.10189888,  0.76590222],\n",
              "       [-1.49802789, -0.19087153],\n",
              "       [ 0.97777845, -1.06066585],\n",
              "       [ 0.97777845,  0.59194336],\n",
              "       [ 0.38358493,  0.99784738]])"
            ]
          },
          "metadata": {},
          "execution_count": 6
        }
      ]
    },
    {
      "cell_type": "code",
      "source": [
        "# Fitting SVM Classification to the Training set \n",
        "from sklearn.svm import SVC\n",
        "# Classifier = SVC(kernel= 'linear',random_state = 0)\n",
        "# With kernel as linear, accuracy is 90 but with rbf accuracy is 93, so rbf is better for svm\n",
        "Classifier = SVC(kernel= 'rbf',random_state = 0)\n",
        "Classifier.fit(X_train, y_train)"
      ],
      "metadata": {
        "colab": {
          "base_uri": "https://localhost:8080/"
        },
        "id": "9J00sxPRGFVg",
        "outputId": "14e39779-4f82-44ea-e9aa-a20f77518a0b"
      },
      "execution_count": null,
      "outputs": [
        {
          "output_type": "execute_result",
          "data": {
            "text/plain": [
              "SVC(random_state=0)"
            ]
          },
          "metadata": {},
          "execution_count": 14
        }
      ]
    },
    {
      "cell_type": "code",
      "source": [
        "  # Predicting the Test set results\n",
        "  y_pred = Classifier.predict(X_test)"
      ],
      "metadata": {
        "id": "v5t4X9EfG0In"
      },
      "execution_count": null,
      "outputs": []
    },
    {
      "cell_type": "code",
      "source": [
        "# Making the Confusion Matrix\n",
        "from sklearn.metrics import confusion_matrix\n",
        "cm = confusion_matrix(y_test, y_pred)\n",
        "cm"
      ],
      "metadata": {
        "colab": {
          "base_uri": "https://localhost:8080/"
        },
        "id": "fDte0o7mHWns",
        "outputId": "122e6277-93e6-4b45-a42a-0f61524ffd5c"
      },
      "execution_count": null,
      "outputs": [
        {
          "output_type": "execute_result",
          "data": {
            "text/plain": [
              "array([[64,  4],\n",
              "       [ 3, 29]])"
            ]
          },
          "metadata": {},
          "execution_count": 9
        }
      ]
    },
    {
      "cell_type": "code",
      "source": [
        "# To find the accuracy\n",
        "from sklearn.metrics import accuracy_score\n",
        "sr = accuracy_score(y_test, y_pred)\n",
        "accuracy = sr*100\n",
        "accuracy"
      ],
      "metadata": {
        "colab": {
          "base_uri": "https://localhost:8080/"
        },
        "id": "Poi8SPm4H6MS",
        "outputId": "86a8eb66-2763-4f26-a687-7db163ff0088"
      },
      "execution_count": null,
      "outputs": [
        {
          "output_type": "execute_result",
          "data": {
            "text/plain": [
              "93.0"
            ]
          },
          "metadata": {},
          "execution_count": 10
        }
      ]
    },
    {
      "cell_type": "code",
      "source": [
        "# Visualising the Test set results\n",
        "from matplotlib.colors import ListedColormap\n",
        "X_set, y_set = X_test, y_test\n",
        "X1, X2 = np.meshgrid(np.arange(start = X_set[:, 0].min()-1, stop = X_set[:, 0].max() + 1, step = 0.01),\n",
        "                     np.arange(start = X_set[:, 1].min()-1, stop = X_set[:, 1].max() + 1, step = 0.01))\n",
        "plt.contourf(X1, X2, Classifier.predict(np.array([X1.ravel(),X2.ravel()]).T).reshape(X1.shape),\n",
        "             alpha = 0.75, cmap = ListedColormap(('red', 'green')))\n",
        "plt.xlim(X1.min(), X1.max())\n",
        "plt.ylim(X2.min(), X2.max())\n",
        "for i, j in enumerate (np.unique(y_set)): \n",
        "  plt.scatter (X_set[y_set ==j, 0], X_set[y_set ==j, 1],\n",
        "              c = ListedColormap(('yellow', 'Blue'))(i), label = j)\n",
        "plt.title('SVM (Test set)')\n",
        "plt.xlabel('Age')\n",
        "plt.ylabel('Estimated Salary')\n",
        "plt.legend()\n",
        "plt.show()\n",
        "            "
      ],
      "metadata": {
        "colab": {
          "base_uri": "https://localhost:8080/",
          "height": 352
        },
        "id": "lukL1TqTHMH5",
        "outputId": "21762e68-3f2f-4b56-f02c-f5d8d7239a38"
      },
      "execution_count": null,
      "outputs": [
        {
          "output_type": "stream",
          "name": "stderr",
          "text": [
            "WARNING:matplotlib.axes._axes:*c* argument looks like a single numeric RGB or RGBA sequence, which should be avoided as value-mapping will have precedence in case its length matches with *x* & *y*.  Please use the *color* keyword-argument or provide a 2-D array with a single row if you intend to specify the same RGB or RGBA value for all points.\n",
            "WARNING:matplotlib.axes._axes:*c* argument looks like a single numeric RGB or RGBA sequence, which should be avoided as value-mapping will have precedence in case its length matches with *x* & *y*.  Please use the *color* keyword-argument or provide a 2-D array with a single row if you intend to specify the same RGB or RGBA value for all points.\n"
          ]
        },
        {
          "output_type": "display_data",
          "data": {
            "text/plain": [
              "<Figure size 432x288 with 1 Axes>"
            ],
            "image/png": "[encoded data removed]"
          },
          "metadata": {
            "needs_background": "light"
          }
        }
      ]
    },
    {
      "cell_type": "code",
      "source": [
        "# Visualising the Training Test set results\n",
        "from matplotlib.colors import ListedColormap\n",
        "X_set, y_set = X_train, y_train\n",
        "X1, X2 = np.meshgrid(np.arange(start = X_set[:, 0].min()-1, stop = X_set[:, 0].max() + 1, step = 0.01),\n",
        "                     np.arange(start = X_set[:, 1].min()-1, stop = X_set[:, 1].max() + 1, step = 0.01))\n",
        "plt.contourf(X1, X2, Classifier.predict(np.array([X1.ravel(),X2.ravel()]).T).reshape(X1.shape),\n",
        "             alpha = 0.75, cmap = ListedColormap(('red', 'green')))\n",
        "plt.xlim(X1.min(), X1.max())\n",
        "plt.ylim(X2.min(), X2.max())\n",
        "for i, j in enumerate (np.unique(y_set)): \n",
        "  plt.scatter (X_set[y_set ==j, 0], X_set[y_set ==j, 1],\n",
        "              c = ListedColormap(('yellow', 'Blue'))(i), label = j)\n",
        "plt.title('SVM (Training set)')\n",
        "plt.xlabel('Age')\n",
        "plt.ylabel('Estimated Salary')\n",
        "plt.legend()\n",
        "plt.show()"
      ],
      "metadata": {
        "colab": {
          "base_uri": "https://localhost:8080/",
          "height": 352
        },
        "id": "rbB05YxkSS_g",
        "outputId": "950cbaad-0642-4c10-dac8-bf05063985f2"
      },
      "execution_count": null,
      "outputs": [
        {
          "output_type": "stream",
          "name": "stderr",
          "text": [
            "WARNING:matplotlib.axes._axes:*c* argument looks like a single numeric RGB or RGBA sequence, which should be avoided as value-mapping will have precedence in case its length matches with *x* & *y*.  Please use the *color* keyword-argument or provide a 2-D array with a single row if you intend to specify the same RGB or RGBA value for all points.\n",
            "WARNING:matplotlib.axes._axes:*c* argument looks like a single numeric RGB or RGBA sequence, which should be avoided as value-mapping will have precedence in case its length matches with *x* & *y*.  Please use the *color* keyword-argument or provide a 2-D array with a single row if you intend to specify the same RGB or RGBA value for all points.\n"
          ]
        },
        {
          "output_type": "display_data",
          "data": {
            "text/plain": [
              "<Figure size 432x288 with 1 Axes>"
            ],
            "image/png": "[encoded data removed]"
          },
          "metadata": {
            "needs_background": "light"
          }
        }
      ]
    }
  ]
}